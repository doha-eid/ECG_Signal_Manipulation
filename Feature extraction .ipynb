{
 "cells": [
  {
   "cell_type": "code",
   "execution_count": 23,
   "id": "d881f12e",
   "metadata": {},
   "outputs": [],
   "source": [
    "import matplotlib.pyplot as plt\n",
    "import scipy.io as spio \n",
    "import numpy as np\n",
    "import pandas as pd \n",
    "import sys\n",
    "import seaborn \n",
    "import statistics \n",
    "from scipy.stats import skew , kurtosis \n",
    "import wfdb\n",
    "from scipy.signal import butter, filtfilt\n",
    "from subprocess import check_output"
   ]
  },
  {
   "cell_type": "code",
   "execution_count": null,
   "id": "a163bbc3",
   "metadata": {},
   "outputs": [],
   "source": [
    "pip install wfdb"
   ]
  },
  {
   "cell_type": "code",
   "execution_count": 24,
   "id": "ba8e218a",
   "metadata": {},
   "outputs": [],
   "source": [
    "record = wfdb.rdrecord('C://Users//w//OneDrive//Documents//Second Term//CDSS//Project 2//apnea-ecg-database-1.0.0//a01') "
   ]
  },
  {
   "cell_type": "code",
   "execution_count": 25,
   "id": "fa51eb1b",
   "metadata": {
    "scrolled": false
   },
   "outputs": [
    {
     "data": {
      "image/png": "[encoded data removed]",
      "text/plain": [
       "<Figure size 432x288 with 1 Axes>"
      ]
     },
     "metadata": {
      "needs_background": "light"
     },
     "output_type": "display_data"
    }
   ],
   "source": [
    "wfdb.plot_wfdb(record, title='Record a01 from Physionet Kaggle Apnea ECG') \n",
    "# display(record.__dict__)"
   ]
  },
  {
   "cell_type": "code",
   "execution_count": 27,
   "id": "f36a9293",
   "metadata": {},
   "outputs": [],
   "source": [
    "record_name = 'a01'\n",
    "database_name = 'apnea-ecg'"
   ]
  },
  {
   "cell_type": "code",
   "execution_count": 28,
   "id": "7121dcc4",
   "metadata": {},
   "outputs": [],
   "source": [
    "signal_data, metadata = wfdb.rdsamp(record_name, pn_dir=database_name)"
   ]
  },
  {
   "cell_type": "code",
   "execution_count": 29,
   "id": "776f136d",
   "metadata": {},
   "outputs": [
    {
     "data": {
      "text/plain": [
       "array([[-0.06 ],\n",
       "       [-0.065],\n",
       "       [-0.06 ],\n",
       "       ...,\n",
       "       [ 0.   ],\n",
       "       [ 0.   ],\n",
       "       [ 0.   ]])"
      ]
     },
     "execution_count": 29,
     "metadata": {},
     "output_type": "execute_result"
    }
   ],
   "source": [
    "signal_data"
   ]
  },
  {
   "cell_type": "code",
   "execution_count": 30,
   "id": "0c250921",
   "metadata": {},
   "outputs": [],
   "source": [
    "mean = np.mean(signal_data[:, 0])\n",
    "std = np.std(signal_data[:, 0])\n",
    "max_value = np.max(signal_data[:, 0])\n",
    "min_value = np.min(signal_data[:, 0])"
   ]
  },
  {
   "cell_type": "code",
   "execution_count": 31,
   "id": "64ff0084",
   "metadata": {},
   "outputs": [
    {
     "data": {
      "text/plain": [
       "0.0005639279675346636"
      ]
     },
     "execution_count": 31,
     "metadata": {},
     "output_type": "execute_result"
    }
   ],
   "source": [
    "mean"
   ]
  }
 ],
 "metadata": {
  "kernelspec": {
   "display_name": "Python 3",
   "language": "python",
   "name": "python3"
  },
  "language_info": {
   "codemirror_mode": {
    "name": "ipython",
    "version": 3
   },
   "file_extension": ".py",
   "mimetype": "text/x-python",
   "name": "python",
   "nbconvert_exporter": "python",
   "pygments_lexer": "ipython3",
   "version": "3.8.8"
  }
 },
 "nbformat": 4,
 "nbformat_minor": 5
}
